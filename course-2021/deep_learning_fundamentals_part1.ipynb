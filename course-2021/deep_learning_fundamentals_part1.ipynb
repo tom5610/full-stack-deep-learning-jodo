{
  "nbformat": 4,
  "nbformat_minor": 0,
  "metadata": {
    "colab": {
      "name": "deep_learning_fundamentals_part1.ipynb",
      "provenance": [],
      "authorship_tag": "ABX9TyMBsEsXryJTZWAdCTV8W9n8",
      "include_colab_link": true
    },
    "kernelspec": {
      "name": "python3",
      "display_name": "Python 3"
    },
    "language_info": {
      "name": "python"
    }
  },
  "cells": [
    {
      "cell_type": "markdown",
      "metadata": {
        "id": "view-in-github",
        "colab_type": "text"
      },
      "source": [
        "<a href=\"https://colab.research.google.com/github/tom5610/full-stack-deep-learning-jodo/blob/main/course-2021/deep_learning_fundamentals_part1.ipynb\" target=\"_parent\"><img src=\"https://colab.research.google.com/assets/colab-badge.svg\" alt=\"Open In Colab\"/></a>"
      ]
    },
    {
      "cell_type": "markdown",
      "metadata": {
        "id": "43myGR0nr2kc"
      },
      "source": [
        "# Deep Learning Fundamentals - Part 1"
      ]
    },
    {
      "cell_type": "markdown",
      "metadata": {
        "id": "0BIDmgsasGwn"
      },
      "source": [
        "## Colab environment"
      ]
    },
    {
      "cell_type": "code",
      "metadata": {
        "colab": {
          "base_uri": "https://localhost:8080/"
        },
        "id": "JBE3bcLCr6GY",
        "outputId": "608b2411-0603-4e51-c4b5-5c4d56985127"
      },
      "source": [
        "!python --version"
      ],
      "execution_count": 14,
      "outputs": [
        {
          "output_type": "stream",
          "name": "stdout",
          "text": [
            "Python 3.7.12\n"
          ]
        }
      ]
    },
    {
      "cell_type": "code",
      "metadata": {
        "colab": {
          "base_uri": "https://localhost:8080/"
        },
        "id": "tKGwh5Apr7sP",
        "outputId": "0ff13285-f975-49a7-e941-21cc53b1887e"
      },
      "source": [
        "!pip list | grep tensor"
      ],
      "execution_count": 15,
      "outputs": [
        {
          "output_type": "stream",
          "name": "stdout",
          "text": [
            "tensorboard                   2.6.0\n",
            "tensorboard-data-server       0.6.1\n",
            "tensorboard-plugin-wit        1.8.0\n",
            "tensorflow                    2.6.0\n",
            "tensorflow-datasets           4.0.1\n",
            "tensorflow-estimator          2.6.0\n",
            "tensorflow-gcs-config         2.6.0\n",
            "tensorflow-hub                0.12.0\n",
            "tensorflow-metadata           1.2.0\n",
            "tensorflow-probability        0.14.1\n"
          ]
        }
      ]
    },
    {
      "cell_type": "code",
      "metadata": {
        "colab": {
          "base_uri": "https://localhost:8080/"
        },
        "id": "gtSiJAuZsS_j",
        "outputId": "5e288692-2e3a-4510-8a70-74b65370d00a"
      },
      "source": [
        "!pip list | grep torch"
      ],
      "execution_count": 16,
      "outputs": [
        {
          "output_type": "stream",
          "name": "stdout",
          "text": [
            "torch                         1.9.0+cu111\n",
            "torchsummary                  1.5.1\n",
            "torchtext                     0.10.0\n",
            "torchvision                   0.10.0+cu111\n"
          ]
        }
      ]
    },
    {
      "cell_type": "code",
      "metadata": {
        "colab": {
          "base_uri": "https://localhost:8080/"
        },
        "id": "loA5pLPbsatE",
        "outputId": "69bddd3d-824b-4f98-9071-0aec5038e2f6"
      },
      "source": [
        "!nvidia-smi\n",
        "\n",
        "# It's okay to run this notebook without a GPU!"
      ],
      "execution_count": 17,
      "outputs": [
        {
          "output_type": "stream",
          "name": "stdout",
          "text": [
            "NVIDIA-SMI has failed because it couldn't communicate with the NVIDIA driver. Make sure that the latest NVIDIA driver is installed and running.\n",
            "\n"
          ]
        }
      ]
    },
    {
      "cell_type": "markdown",
      "metadata": {
        "id": "0lOa3jZdsltB"
      },
      "source": [
        "## Basic numerical computing"
      ]
    },
    {
      "cell_type": "code",
      "metadata": {
        "colab": {
          "base_uri": "https://localhost:8080/"
        },
        "id": "fl14AcxRsdy0",
        "outputId": "77adf823-8a5d-4fee-b113-10b260742fe0"
      },
      "source": [
        "import numpy as np\n",
        "\n",
        "# Initialize a numpy ndarray with 3 rows, 2 columns\n",
        "X = np.zeros((3, 2))\n",
        "X"
      ],
      "execution_count": 18,
      "outputs": [
        {
          "output_type": "execute_result",
          "data": {
            "text/plain": [
              "array([[0., 0.],\n",
              "       [0., 0.],\n",
              "       [0., 0.]])"
            ]
          },
          "metadata": {},
          "execution_count": 18
        }
      ]
    },
    {
      "cell_type": "code",
      "metadata": {
        "colab": {
          "base_uri": "https://localhost:8080/"
        },
        "id": "i8k00V6lsuiG",
        "outputId": "74f36286-f9b5-4b57-b65e-971348eae6e6"
      },
      "source": [
        "# By default, ndarrays are float64\n",
        "X.shape, X.dtype"
      ],
      "execution_count": 19,
      "outputs": [
        {
          "output_type": "execute_result",
          "data": {
            "text/plain": [
              "((3, 2), dtype('float64'))"
            ]
          },
          "metadata": {},
          "execution_count": 19
        }
      ]
    },
    {
      "cell_type": "code",
      "metadata": {
        "colab": {
          "base_uri": "https://localhost:8080/"
        },
        "id": "8ASheiLNs2_Y",
        "outputId": "5ed94587-45d0-416b-92ad-d6fb9c2a5820"
      },
      "source": [
        "# We can set values of a whole row\n",
        "X[0, :] = 1\n",
        "X"
      ],
      "execution_count": 20,
      "outputs": [
        {
          "output_type": "execute_result",
          "data": {
            "text/plain": [
              "array([[1., 1.],\n",
              "       [0., 0.],\n",
              "       [0., 0.]])"
            ]
          },
          "metadata": {},
          "execution_count": 20
        }
      ]
    },
    {
      "cell_type": "code",
      "metadata": {
        "colab": {
          "base_uri": "https://localhost:8080/"
        },
        "id": "bX_u3Enrs554",
        "outputId": "744e0cce-e8ea-4070-ab02-efe9c44239c9"
      },
      "source": [
        "# We can set values of a whole column\n",
        "X[:, 0] = 2\n",
        "X"
      ],
      "execution_count": 21,
      "outputs": [
        {
          "output_type": "execute_result",
          "data": {
            "text/plain": [
              "array([[2., 1.],\n",
              "       [2., 0.],\n",
              "       [2., 0.]])"
            ]
          },
          "metadata": {},
          "execution_count": 21
        }
      ]
    },
    {
      "cell_type": "code",
      "metadata": {
        "colab": {
          "base_uri": "https://localhost:8080/"
        },
        "id": "ayOFGKNQtCMQ",
        "outputId": "337e7341-0119-4f21-ef1c-be6668e8fe03"
      },
      "source": [
        "X = np.array([\n",
        "    [1, 2],\n",
        "    [3, 4],\n",
        "    [5, 6]\n",
        "])\n",
        "X"
      ],
      "execution_count": 22,
      "outputs": [
        {
          "output_type": "execute_result",
          "data": {
            "text/plain": [
              "array([[1, 2],\n",
              "       [3, 4],\n",
              "       [5, 6]])"
            ]
          },
          "metadata": {},
          "execution_count": 22
        }
      ]
    },
    {
      "cell_type": "code",
      "metadata": {
        "colab": {
          "base_uri": "https://localhost:8080/"
        },
        "id": "FLP6JGc3tKS6",
        "outputId": "0bde48c5-cfd2-4949-ea38-1e5143289b0d"
      },
      "source": [
        "X.shape"
      ],
      "execution_count": 23,
      "outputs": [
        {
          "output_type": "execute_result",
          "data": {
            "text/plain": [
              "(3, 2)"
            ]
          },
          "metadata": {},
          "execution_count": 23
        }
      ]
    },
    {
      "cell_type": "code",
      "metadata": {
        "colab": {
          "base_uri": "https://localhost:8080/"
        },
        "id": "OS-RK3hdtMNZ",
        "outputId": "eab6312f-f4aa-4b67-b407-260c276f7ee7"
      },
      "source": [
        "x = np.array([10, 20])\n",
        "print(x)\n",
        "print(X.shape, x.shape)\n",
        "\n",
        "# we can add ndarrays of different dimensions\n",
        "X + x"
      ],
      "execution_count": 26,
      "outputs": [
        {
          "output_type": "stream",
          "name": "stdout",
          "text": [
            "[10 20]\n",
            "(3, 2) (2,)\n"
          ]
        },
        {
          "output_type": "execute_result",
          "data": {
            "text/plain": [
              "array([[11, 22],\n",
              "       [13, 24],\n",
              "       [15, 26]])"
            ]
          },
          "metadata": {},
          "execution_count": 26
        }
      ]
    },
    {
      "cell_type": "code",
      "metadata": {
        "colab": {
          "base_uri": "https://localhost:8080/"
        },
        "id": "htyyUoHU_8z_",
        "outputId": "95ba29d7-e49e-4e79-e289-8829968215b0"
      },
      "source": [
        "# element-wise multiplication\n",
        "\n",
        "X * x"
      ],
      "execution_count": 27,
      "outputs": [
        {
          "output_type": "execute_result",
          "data": {
            "text/plain": [
              "array([[ 10,  40],\n",
              "       [ 30,  80],\n",
              "       [ 50, 120]])"
            ]
          },
          "metadata": {},
          "execution_count": 27
        }
      ]
    },
    {
      "cell_type": "code",
      "metadata": {
        "colab": {
          "base_uri": "https://localhost:8080/"
        },
        "id": "hYpqlcm1AMWP",
        "outputId": "84ec2bc2-4a6e-4b78-c419-0d0aaa4fa71d"
      },
      "source": [
        "# matrix multiplication\n",
        "# http://matrixmultiplication.xyz/\n",
        "\n",
        "x = np.array([[10, 20, ]]).T\n",
        "result = X @ x\n",
        "result"
      ],
      "execution_count": 28,
      "outputs": [
        {
          "output_type": "execute_result",
          "data": {
            "text/plain": [
              "array([[ 50],\n",
              "       [110],\n",
              "       [170]])"
            ]
          },
          "metadata": {},
          "execution_count": 28
        }
      ]
    },
    {
      "cell_type": "markdown",
      "metadata": {
        "id": "QhCNzYmGA6B-"
      },
      "source": [
        "## Indexing"
      ]
    },
    {
      "cell_type": "code",
      "metadata": {
        "colab": {
          "base_uri": "https://localhost:8080/"
        },
        "id": "lPf90V1dAeg6",
        "outputId": "0f8418a7-edae-4fb8-8bdd-e2e951cc8c62"
      },
      "source": [
        "X = np.random.rand(3, 2)\n",
        "X"
      ],
      "execution_count": 30,
      "outputs": [
        {
          "output_type": "execute_result",
          "data": {
            "text/plain": [
              "array([[0.85142211, 0.61810149],\n",
              "       [0.39175128, 0.70723951],\n",
              "       [0.35514466, 0.92476084]])"
            ]
          },
          "metadata": {},
          "execution_count": 30
        }
      ]
    },
    {
      "cell_type": "code",
      "metadata": {
        "colab": {
          "base_uri": "https://localhost:8080/"
        },
        "id": "oGyDn13PA9km",
        "outputId": "3446b8d2-e86a-4a5c-8d23-b439276fe12b"
      },
      "source": [
        "X > 0.5"
      ],
      "execution_count": 33,
      "outputs": [
        {
          "output_type": "execute_result",
          "data": {
            "text/plain": [
              "array([[ True,  True],\n",
              "       [False,  True],\n",
              "       [False,  True]])"
            ]
          },
          "metadata": {},
          "execution_count": 33
        }
      ]
    },
    {
      "cell_type": "code",
      "metadata": {
        "colab": {
          "base_uri": "https://localhost:8080/"
        },
        "id": "RpCMvTQ3BAvu",
        "outputId": "1ef9171a-4bf9-4965-e523-a7d528628399"
      },
      "source": [
        "X[ X > 0.5] = 1\n",
        "X"
      ],
      "execution_count": 34,
      "outputs": [
        {
          "output_type": "execute_result",
          "data": {
            "text/plain": [
              "array([[1.        , 1.        ],\n",
              "       [0.39175128, 1.        ],\n",
              "       [0.35514466, 1.        ]])"
            ]
          },
          "metadata": {},
          "execution_count": 34
        }
      ]
    },
    {
      "cell_type": "code",
      "metadata": {
        "colab": {
          "base_uri": "https://localhost:8080/"
        },
        "id": "s2MhSKweBGWn",
        "outputId": "f5f8e6ce-4333-4d6c-884a-e77e28118db5"
      },
      "source": [
        "X.dtype"
      ],
      "execution_count": 35,
      "outputs": [
        {
          "output_type": "execute_result",
          "data": {
            "text/plain": [
              "dtype('float64')"
            ]
          },
          "metadata": {},
          "execution_count": 35
        }
      ]
    },
    {
      "cell_type": "markdown",
      "metadata": {
        "id": "b6D_OXW-BKnZ"
      },
      "source": [
        "## Basic plotting"
      ]
    },
    {
      "cell_type": "code",
      "metadata": {
        "colab": {
          "base_uri": "https://localhost:8080/",
          "height": 34
        },
        "id": "F35BaxfABImm",
        "outputId": "c36ff8a9-d9dd-4141-dfbe-471320ab899e"
      },
      "source": [
        "import matplotlib.pyplot as plt\n",
        "plt.set_cmap('gray')"
      ],
      "execution_count": 36,
      "outputs": [
        {
          "output_type": "display_data",
          "data": {
            "text/plain": [
              "<Figure size 432x288 with 0 Axes>"
            ]
          },
          "metadata": {}
        }
      ]
    },
    {
      "cell_type": "code",
      "metadata": {
        "colab": {
          "base_uri": "https://localhost:8080/",
          "height": 271
        },
        "id": "0wRy-ERCBPL4",
        "outputId": "6c54de76-2e59-45ed-a53b-7193113ef44e"
      },
      "source": [
        "X = np.random.rand(100, 100)\n",
        "plt.matshow(X)\n",
        "plt.colorbar()"
      ],
      "execution_count": 37,
      "outputs": [
        {
          "output_type": "execute_result",
          "data": {
            "text/plain": [
              "<matplotlib.colorbar.Colorbar at 0x7f7ad9944d50>"
            ]
          },
          "metadata": {},
          "execution_count": 37
        },
        {
          "output_type": "display_data",
          "data": {
            "image/png": "[encoded data removed]",
            "text/plain": [
              "<Figure size 288x288 with 2 Axes>"
            ]
          },
          "metadata": {
            "needs_background": "light"
          }
        }
      ]
    },
    {
      "cell_type": "code",
      "metadata": {
        "id": "qZJgQgeQBVfZ"
      },
      "source": [
        "import numpy as np\n",
        "x = np.linspace(0, 100)\n",
        "y = x * 5 + 10\n"
      ],
      "execution_count": 40,
      "outputs": []
    },
    {
      "cell_type": "code",
      "metadata": {
        "colab": {
          "base_uri": "https://localhost:8080/"
        },
        "id": "IkGIOU0zBlcj",
        "outputId": "c6c3395c-76a0-4053-ae95-a1acdfaf5afc"
      },
      "source": [
        "x.shape, x"
      ],
      "execution_count": 41,
      "outputs": [
        {
          "output_type": "execute_result",
          "data": {
            "text/plain": [
              "((50,), array([  0.        ,   2.04081633,   4.08163265,   6.12244898,\n",
              "          8.16326531,  10.20408163,  12.24489796,  14.28571429,\n",
              "         16.32653061,  18.36734694,  20.40816327,  22.44897959,\n",
              "         24.48979592,  26.53061224,  28.57142857,  30.6122449 ,\n",
              "         32.65306122,  34.69387755,  36.73469388,  38.7755102 ,\n",
              "         40.81632653,  42.85714286,  44.89795918,  46.93877551,\n",
              "         48.97959184,  51.02040816,  53.06122449,  55.10204082,\n",
              "         57.14285714,  59.18367347,  61.2244898 ,  63.26530612,\n",
              "         65.30612245,  67.34693878,  69.3877551 ,  71.42857143,\n",
              "         73.46938776,  75.51020408,  77.55102041,  79.59183673,\n",
              "         81.63265306,  83.67346939,  85.71428571,  87.75510204,\n",
              "         89.79591837,  91.83673469,  93.87755102,  95.91836735,\n",
              "         97.95918367, 100.        ]))"
            ]
          },
          "metadata": {},
          "execution_count": 41
        }
      ]
    },
    {
      "cell_type": "code",
      "metadata": {
        "colab": {
          "base_uri": "https://localhost:8080/"
        },
        "id": "iHt3Z_IxBvM7",
        "outputId": "0cb43cdd-9ac1-4356-fe47-e42a7f63735b"
      },
      "source": [
        "y.shape, y"
      ],
      "execution_count": 42,
      "outputs": [
        {
          "output_type": "execute_result",
          "data": {
            "text/plain": [
              "((50,), array([ 10.        ,  20.20408163,  30.40816327,  40.6122449 ,\n",
              "         50.81632653,  61.02040816,  71.2244898 ,  81.42857143,\n",
              "         91.63265306, 101.83673469, 112.04081633, 122.24489796,\n",
              "        132.44897959, 142.65306122, 152.85714286, 163.06122449,\n",
              "        173.26530612, 183.46938776, 193.67346939, 203.87755102,\n",
              "        214.08163265, 224.28571429, 234.48979592, 244.69387755,\n",
              "        254.89795918, 265.10204082, 275.30612245, 285.51020408,\n",
              "        295.71428571, 305.91836735, 316.12244898, 326.32653061,\n",
              "        336.53061224, 346.73469388, 356.93877551, 367.14285714,\n",
              "        377.34693878, 387.55102041, 397.75510204, 407.95918367,\n",
              "        418.16326531, 428.36734694, 438.57142857, 448.7755102 ,\n",
              "        458.97959184, 469.18367347, 479.3877551 , 489.59183673,\n",
              "        499.79591837, 510.        ]))"
            ]
          },
          "metadata": {},
          "execution_count": 42
        }
      ]
    },
    {
      "cell_type": "code",
      "metadata": {
        "colab": {
          "base_uri": "https://localhost:8080/",
          "height": 282
        },
        "id": "cG0q5DTPB862",
        "outputId": "e705e378-a536-4699-8c90-3dd4dd60d53a"
      },
      "source": [
        "plt.plot(x, y, 'x-')"
      ],
      "execution_count": 43,
      "outputs": [
        {
          "output_type": "execute_result",
          "data": {
            "text/plain": [
              "[<matplotlib.lines.Line2D at 0x7f7ad9853f10>]"
            ]
          },
          "metadata": {},
          "execution_count": 43
        },
        {
          "output_type": "display_data",
          "data": {
            "image/png": "[encoded data removed]",
            "text/plain": [
              "<Figure size 432x288 with 1 Axes>"
            ]
          },
          "metadata": {
            "needs_background": "light"
          }
        }
      ]
    },
    {
      "cell_type": "markdown",
      "metadata": {
        "id": "R50w04x5CO1A"
      },
      "source": [
        "## Basic regression with a linear model"
      ]
    },
    {
      "cell_type": "code",
      "metadata": {
        "colab": {
          "base_uri": "https://localhost:8080/",
          "height": 299
        },
        "id": "W-dibyHuCSoA",
        "outputId": "4a0f4a6d-fb98-460c-8253-621441d92028"
      },
      "source": [
        "# x is 1-dimensional\n",
        "\n",
        "n = 50\n",
        "\n",
        "d = 1\n",
        "x = np.random.uniform(-1, 1, (n, d))\n",
        "\n",
        "# y = 5x + 10\n",
        "weights_true = np.array([[5],])\n",
        "bias_true = np.array([10])\n",
        "\n",
        "y_true = x @ weights_true + bias_true\n",
        "print(f'x: {x.shape}, weights: {weights_true.shape}, bias: {bias_true.shape}, y: {y_true.shape}')\n",
        "\n",
        "plt.plot(x, y_true, marker = 'x', label = 'underlying function')\n",
        "plt.legend()"
      ],
      "execution_count": 45,
      "outputs": [
        {
          "output_type": "stream",
          "name": "stdout",
          "text": [
            "x: (50, 1), weights: (1, 1), bias: (1,), y: (50, 1)\n"
          ]
        },
        {
          "output_type": "execute_result",
          "data": {
            "text/plain": [
              "<matplotlib.legend.Legend at 0x7f7ad9313290>"
            ]
          },
          "metadata": {},
          "execution_count": 45
        },
        {
          "output_type": "display_data",
          "data": {
            "image/png": "[encoded data removed]",
            "text/plain": [
              "<Figure size 432x288 with 1 Axes>"
            ]
          },
          "metadata": {
            "needs_background": "light"
          }
        }
      ]
    },
    {
      "cell_type": "code",
      "metadata": {
        "colab": {
          "base_uri": "https://localhost:8080/"
        },
        "id": "MAoa0FySC3jO",
        "outputId": "0f8c0e81-d081-4e1c-e278-4017184da05d"
      },
      "source": [
        "x.shape, x"
      ],
      "execution_count": 46,
      "outputs": [
        {
          "output_type": "execute_result",
          "data": {
            "text/plain": [
              "((50, 1), array([[ 0.60664661],\n",
              "        [-0.29169368],\n",
              "        [-0.71106507],\n",
              "        [ 0.50882075],\n",
              "        [ 0.7604785 ],\n",
              "        [ 0.12674111],\n",
              "        [-0.19921065],\n",
              "        [ 0.84939754],\n",
              "        [-0.80750662],\n",
              "        [-0.52954642],\n",
              "        [ 0.05632913],\n",
              "        [ 0.07121156],\n",
              "        [-0.62638983],\n",
              "        [ 0.93188792],\n",
              "        [-0.68562076],\n",
              "        [-0.61975896],\n",
              "        [-0.95193852],\n",
              "        [-0.68517629],\n",
              "        [ 0.49629268],\n",
              "        [ 0.88283225],\n",
              "        [-0.64336577],\n",
              "        [-0.42224962],\n",
              "        [-0.56267133],\n",
              "        [-0.4546068 ],\n",
              "        [ 0.05708138],\n",
              "        [ 0.49710718],\n",
              "        [-0.36195462],\n",
              "        [ 0.43478791],\n",
              "        [-0.07572169],\n",
              "        [ 0.50191177],\n",
              "        [ 0.56859213],\n",
              "        [-0.31678254],\n",
              "        [-0.76867214],\n",
              "        [ 0.45313225],\n",
              "        [-0.96891851],\n",
              "        [ 0.97863807],\n",
              "        [-0.24506195],\n",
              "        [ 0.81771893],\n",
              "        [ 0.35208216],\n",
              "        [-0.16093789],\n",
              "        [ 0.49364195],\n",
              "        [ 0.65145532],\n",
              "        [-0.72875477],\n",
              "        [-0.11041141],\n",
              "        [ 0.33712454],\n",
              "        [-0.88233292],\n",
              "        [-0.87764711],\n",
              "        [ 0.36145179],\n",
              "        [-0.54185971],\n",
              "        [-0.19095329]]))"
            ]
          },
          "metadata": {},
          "execution_count": 46
        }
      ]
    },
    {
      "cell_type": "code",
      "metadata": {
        "id": "ntQR1p0_DCfF"
      },
      "source": [
        ""
      ],
      "execution_count": null,
      "outputs": []
    }
  ]
}