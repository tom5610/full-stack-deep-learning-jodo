{
  "nbformat": 4,
  "nbformat_minor": 0,
  "metadata": {
    "colab": {
      "name": "deep_learning_fundamentals_part1.ipynb",
      "provenance": [],
      "authorship_tag": "ABX9TyNYH7hx+ZRHSPYY2fGqa/++",
      "include_colab_link": true
    },
    "kernelspec": {
      "name": "python3",
      "display_name": "Python 3"
    },
    "language_info": {
      "name": "python"
    },
    "accelerator": "GPU"
  },
  "cells": [
    {
      "cell_type": "markdown",
      "metadata": {
        "id": "view-in-github",
        "colab_type": "text"
      },
      "source": [
        "<a href=\"https://colab.research.google.com/github/tom5610/full-stack-deep-learning-jodo/blob/main/course-2021/deep_learning_fundamentals_part1.ipynb\" target=\"_parent\"><img src=\"https://colab.research.google.com/assets/colab-badge.svg\" alt=\"Open In Colab\"/></a>"
      ]
    },
    {
      "cell_type": "markdown",
      "metadata": {
        "id": "43myGR0nr2kc"
      },
      "source": [
        "# Deep Learning Fundamentals - Part 1"
      ]
    },
    {
      "cell_type": "markdown",
      "metadata": {
        "id": "0BIDmgsasGwn"
      },
      "source": [
        "## Colab environment"
      ]
    },
    {
      "cell_type": "code",
      "metadata": {
        "colab": {
          "base_uri": "https://localhost:8080/"
        },
        "id": "JBE3bcLCr6GY",
        "outputId": "db2beaae-d3fc-4c46-b1d9-2a793a13e3ce"
      },
      "source": [
        "!python --version"
      ],
      "execution_count": 1,
      "outputs": [
        {
          "output_type": "stream",
          "name": "stdout",
          "text": [
            "Python 3.7.12\n"
          ]
        }
      ]
    },
    {
      "cell_type": "code",
      "metadata": {
        "colab": {
          "base_uri": "https://localhost:8080/"
        },
        "id": "tKGwh5Apr7sP",
        "outputId": "609766b0-b2f9-4628-c58d-10644d781a97"
      },
      "source": [
        "!pip list | grep tensor"
      ],
      "execution_count": 2,
      "outputs": [
        {
          "output_type": "stream",
          "name": "stdout",
          "text": [
            "tensorboard                   2.6.0\n",
            "tensorboard-data-server       0.6.1\n",
            "tensorboard-plugin-wit        1.8.0\n",
            "tensorflow                    2.6.0\n",
            "tensorflow-datasets           4.0.1\n",
            "tensorflow-estimator          2.6.0\n",
            "tensorflow-gcs-config         2.6.0\n",
            "tensorflow-hub                0.12.0\n",
            "tensorflow-metadata           1.2.0\n",
            "tensorflow-probability        0.14.1\n"
          ]
        }
      ]
    },
    {
      "cell_type": "code",
      "metadata": {
        "colab": {
          "base_uri": "https://localhost:8080/"
        },
        "id": "gtSiJAuZsS_j",
        "outputId": "326e8314-82a1-4206-a731-a258b5b47aa6"
      },
      "source": [
        "!pip list | grep torch"
      ],
      "execution_count": 3,
      "outputs": [
        {
          "output_type": "stream",
          "name": "stdout",
          "text": [
            "torch                         1.9.0+cu111\n",
            "torchsummary                  1.5.1\n",
            "torchtext                     0.10.0\n",
            "torchvision                   0.10.0+cu111\n"
          ]
        }
      ]
    },
    {
      "cell_type": "code",
      "metadata": {
        "colab": {
          "base_uri": "https://localhost:8080/"
        },
        "id": "loA5pLPbsatE",
        "outputId": "9f976f6e-7ab9-43c5-a363-8898c7c771aa"
      },
      "source": [
        "!nvidia-smi\n",
        "\n",
        "# It's okay to run this notebook without a GPU!"
      ],
      "execution_count": 4,
      "outputs": [
        {
          "output_type": "stream",
          "name": "stdout",
          "text": [
            "Fri Oct  8 20:49:25 2021       \n",
            "+-----------------------------------------------------------------------------+\n",
            "| NVIDIA-SMI 470.74       Driver Version: 460.32.03    CUDA Version: 11.2     |\n",
            "|-------------------------------+----------------------+----------------------+\n",
            "| GPU  Name        Persistence-M| Bus-Id        Disp.A | Volatile Uncorr. ECC |\n",
            "| Fan  Temp  Perf  Pwr:Usage/Cap|         Memory-Usage | GPU-Util  Compute M. |\n",
            "|                               |                      |               MIG M. |\n",
            "|===============================+======================+======================|\n",
            "|   0  Tesla K80           Off  | 00000000:00:04.0 Off |                    0 |\n",
            "| N/A   47C    P8    29W / 149W |      0MiB / 11441MiB |      0%      Default |\n",
            "|                               |                      |                  N/A |\n",
            "+-------------------------------+----------------------+----------------------+\n",
            "                                                                               \n",
            "+-----------------------------------------------------------------------------+\n",
            "| Processes:                                                                  |\n",
            "|  GPU   GI   CI        PID   Type   Process name                  GPU Memory |\n",
            "|        ID   ID                                                   Usage      |\n",
            "|=============================================================================|\n",
            "|  No running processes found                                                 |\n",
            "+-----------------------------------------------------------------------------+\n"
          ]
        }
      ]
    },
    {
      "cell_type": "markdown",
      "metadata": {
        "id": "0lOa3jZdsltB"
      },
      "source": [
        "## Basic numerical computing"
      ]
    },
    {
      "cell_type": "code",
      "metadata": {
        "colab": {
          "base_uri": "https://localhost:8080/"
        },
        "id": "fl14AcxRsdy0",
        "outputId": "487f1694-6fa7-4dfa-e41d-2d5a268791a2"
      },
      "source": [
        "import numpy as np\n",
        "\n",
        "# Initialize a numpy ndarray with 3 rows, 2 columns\n",
        "X = np.zeros((3, 2))\n",
        "X"
      ],
      "execution_count": 5,
      "outputs": [
        {
          "output_type": "execute_result",
          "data": {
            "text/plain": [
              "array([[0., 0.],\n",
              "       [0., 0.],\n",
              "       [0., 0.]])"
            ]
          },
          "metadata": {},
          "execution_count": 5
        }
      ]
    },
    {
      "cell_type": "code",
      "metadata": {
        "colab": {
          "base_uri": "https://localhost:8080/"
        },
        "id": "i8k00V6lsuiG",
        "outputId": "e8e14adc-fc67-4386-d2a1-c159f7c6aaa1"
      },
      "source": [
        "# By default, ndarrays are float64\n",
        "X.shape, X.dtype"
      ],
      "execution_count": 6,
      "outputs": [
        {
          "output_type": "execute_result",
          "data": {
            "text/plain": [
              "((3, 2), dtype('float64'))"
            ]
          },
          "metadata": {},
          "execution_count": 6
        }
      ]
    },
    {
      "cell_type": "code",
      "metadata": {
        "colab": {
          "base_uri": "https://localhost:8080/"
        },
        "id": "8ASheiLNs2_Y",
        "outputId": "61590c7a-215c-4949-e4ac-cb949335e31c"
      },
      "source": [
        "# We can set values of a whole row\n",
        "X[0, :] = 1\n",
        "X"
      ],
      "execution_count": 7,
      "outputs": [
        {
          "output_type": "execute_result",
          "data": {
            "text/plain": [
              "array([[1., 1.],\n",
              "       [0., 0.],\n",
              "       [0., 0.]])"
            ]
          },
          "metadata": {},
          "execution_count": 7
        }
      ]
    },
    {
      "cell_type": "code",
      "metadata": {
        "colab": {
          "base_uri": "https://localhost:8080/"
        },
        "id": "bX_u3Enrs554",
        "outputId": "12b5e108-be51-422b-a6a9-a862034e97f9"
      },
      "source": [
        "# We can set values of a whole column\n",
        "X[:, 0] = 2\n",
        "X"
      ],
      "execution_count": 8,
      "outputs": [
        {
          "output_type": "execute_result",
          "data": {
            "text/plain": [
              "array([[2., 1.],\n",
              "       [2., 0.],\n",
              "       [2., 0.]])"
            ]
          },
          "metadata": {},
          "execution_count": 8
        }
      ]
    },
    {
      "cell_type": "code",
      "metadata": {
        "colab": {
          "base_uri": "https://localhost:8080/"
        },
        "id": "ayOFGKNQtCMQ",
        "outputId": "80a90836-f00c-4b28-8f56-03c27e5722f8"
      },
      "source": [
        "X = np.array([\n",
        "    [1, 2],\n",
        "    [3, 4],\n",
        "    [5, 6]\n",
        "])\n",
        "X"
      ],
      "execution_count": 9,
      "outputs": [
        {
          "output_type": "execute_result",
          "data": {
            "text/plain": [
              "array([[1, 2],\n",
              "       [3, 4],\n",
              "       [5, 6]])"
            ]
          },
          "metadata": {},
          "execution_count": 9
        }
      ]
    },
    {
      "cell_type": "code",
      "metadata": {
        "colab": {
          "base_uri": "https://localhost:8080/"
        },
        "id": "FLP6JGc3tKS6",
        "outputId": "1982ff19-d04c-4a8c-d7d6-34bffdda7e7f"
      },
      "source": [
        "X.shape"
      ],
      "execution_count": 10,
      "outputs": [
        {
          "output_type": "execute_result",
          "data": {
            "text/plain": [
              "(3, 2)"
            ]
          },
          "metadata": {},
          "execution_count": 10
        }
      ]
    },
    {
      "cell_type": "code",
      "metadata": {
        "colab": {
          "base_uri": "https://localhost:8080/"
        },
        "id": "OS-RK3hdtMNZ",
        "outputId": "61fc80b5-54ab-4e52-c574-992e368ecdc4"
      },
      "source": [
        "x = np.array([10, 20])\n",
        "print(x)\n",
        "print(X.shape, x.shape)\n",
        "\n",
        "# we can add ndarrays of different dimensions\n",
        "X + x"
      ],
      "execution_count": 11,
      "outputs": [
        {
          "output_type": "stream",
          "name": "stdout",
          "text": [
            "[10 20]\n",
            "(3, 2) (2,)\n"
          ]
        },
        {
          "output_type": "execute_result",
          "data": {
            "text/plain": [
              "array([[11, 22],\n",
              "       [13, 24],\n",
              "       [15, 26]])"
            ]
          },
          "metadata": {},
          "execution_count": 11
        }
      ]
    },
    {
      "cell_type": "code",
      "metadata": {
        "colab": {
          "base_uri": "https://localhost:8080/"
        },
        "id": "htyyUoHU_8z_",
        "outputId": "0e6676d2-f0fc-4396-b654-b1fe34cb0bc9"
      },
      "source": [
        "# element-wise multiplication\n",
        "\n",
        "X * x"
      ],
      "execution_count": 12,
      "outputs": [
        {
          "output_type": "execute_result",
          "data": {
            "text/plain": [
              "array([[ 10,  40],\n",
              "       [ 30,  80],\n",
              "       [ 50, 120]])"
            ]
          },
          "metadata": {},
          "execution_count": 12
        }
      ]
    },
    {
      "cell_type": "code",
      "metadata": {
        "colab": {
          "base_uri": "https://localhost:8080/"
        },
        "id": "hYpqlcm1AMWP",
        "outputId": "d8028119-fb01-4db3-dff6-0d973d75add6"
      },
      "source": [
        "# matrix multiplication\n",
        "# http://matrixmultiplication.xyz/\n",
        "\n",
        "x = np.array([[10, 20, ]]).T\n",
        "result = X @ x\n",
        "result"
      ],
      "execution_count": 13,
      "outputs": [
        {
          "output_type": "execute_result",
          "data": {
            "text/plain": [
              "array([[ 50],\n",
              "       [110],\n",
              "       [170]])"
            ]
          },
          "metadata": {},
          "execution_count": 13
        }
      ]
    },
    {
      "cell_type": "markdown",
      "metadata": {
        "id": "QhCNzYmGA6B-"
      },
      "source": [
        "## Indexing"
      ]
    },
    {
      "cell_type": "code",
      "metadata": {
        "colab": {
          "base_uri": "https://localhost:8080/"
        },
        "id": "lPf90V1dAeg6",
        "outputId": "022367e9-7332-49ac-ce04-34df027b93b8"
      },
      "source": [
        "X = np.random.rand(3, 2)\n",
        "X"
      ],
      "execution_count": 14,
      "outputs": [
        {
          "output_type": "execute_result",
          "data": {
            "text/plain": [
              "array([[0.68024473, 0.2327574 ],\n",
              "       [0.48655072, 0.55092434],\n",
              "       [0.6120923 , 0.02396711]])"
            ]
          },
          "metadata": {},
          "execution_count": 14
        }
      ]
    },
    {
      "cell_type": "code",
      "metadata": {
        "colab": {
          "base_uri": "https://localhost:8080/"
        },
        "id": "oGyDn13PA9km",
        "outputId": "25873d24-12a9-4658-9f83-41e4baff9942"
      },
      "source": [
        "X > 0.5"
      ],
      "execution_count": 15,
      "outputs": [
        {
          "output_type": "execute_result",
          "data": {
            "text/plain": [
              "array([[ True, False],\n",
              "       [False,  True],\n",
              "       [ True, False]])"
            ]
          },
          "metadata": {},
          "execution_count": 15
        }
      ]
    },
    {
      "cell_type": "code",
      "metadata": {
        "colab": {
          "base_uri": "https://localhost:8080/"
        },
        "id": "RpCMvTQ3BAvu",
        "outputId": "1790d2d0-8be6-4809-bc51-e181aef7f922"
      },
      "source": [
        "X[ X > 0.5] = 1\n",
        "X"
      ],
      "execution_count": 16,
      "outputs": [
        {
          "output_type": "execute_result",
          "data": {
            "text/plain": [
              "array([[1.        , 0.2327574 ],\n",
              "       [0.48655072, 1.        ],\n",
              "       [1.        , 0.02396711]])"
            ]
          },
          "metadata": {},
          "execution_count": 16
        }
      ]
    },
    {
      "cell_type": "code",
      "metadata": {
        "colab": {
          "base_uri": "https://localhost:8080/"
        },
        "id": "s2MhSKweBGWn",
        "outputId": "9abb6208-5a9c-4ede-b979-4d10af090e61"
      },
      "source": [
        "X.dtype"
      ],
      "execution_count": 17,
      "outputs": [
        {
          "output_type": "execute_result",
          "data": {
            "text/plain": [
              "dtype('float64')"
            ]
          },
          "metadata": {},
          "execution_count": 17
        }
      ]
    },
    {
      "cell_type": "markdown",
      "metadata": {
        "id": "b6D_OXW-BKnZ"
      },
      "source": [
        "## Basic plotting"
      ]
    },
    {
      "cell_type": "code",
      "metadata": {
        "colab": {
          "base_uri": "https://localhost:8080/",
          "height": 34
        },
        "id": "F35BaxfABImm",
        "outputId": "98c2b700-1661-4047-ef73-0137a7bf8168"
      },
      "source": [
        "import matplotlib.pyplot as plt\n",
        "plt.set_cmap('gray')"
      ],
      "execution_count": 25,
      "outputs": [
        {
          "output_type": "display_data",
          "data": {
            "text/plain": [
              "<Figure size 432x288 with 0 Axes>"
            ]
          },
          "metadata": {}
        }
      ]
    },
    {
      "cell_type": "code",
      "metadata": {
        "colab": {
          "base_uri": "https://localhost:8080/",
          "height": 271
        },
        "id": "0wRy-ERCBPL4",
        "outputId": "389a3ac5-dee1-45dd-8f15-51c5371d94b9"
      },
      "source": [
        "X = np.random.rand(100, 100)\n",
        "plt.matshow(X)\n",
        "plt.colorbar()"
      ],
      "execution_count": 26,
      "outputs": [
        {
          "output_type": "execute_result",
          "data": {
            "text/plain": [
              "<matplotlib.colorbar.Colorbar at 0x7fe1fa0e2f10>"
            ]
          },
          "metadata": {},
          "execution_count": 26
        },
        {
          "output_type": "display_data",
          "data": {
            "image/png": "[encoded data removed]",
            "text/plain": [
              "<Figure size 288x288 with 2 Axes>"
            ]
          },
          "metadata": {
            "needs_background": "light"
          }
        }
      ]
    },
    {
      "cell_type": "code",
      "metadata": {
        "id": "qZJgQgeQBVfZ"
      },
      "source": [
        "import numpy as np\n",
        "x = np.linspace(0, 100)\n",
        "y = x * 5 + 10\n"
      ],
      "execution_count": 27,
      "outputs": []
    },
    {
      "cell_type": "code",
      "metadata": {
        "colab": {
          "base_uri": "https://localhost:8080/"
        },
        "id": "IkGIOU0zBlcj",
        "outputId": "bc11e026-ccb0-4bb1-e076-22e6b5b57106"
      },
      "source": [
        "x.shape, x"
      ],
      "execution_count": 28,
      "outputs": [
        {
          "output_type": "execute_result",
          "data": {
            "text/plain": [
              "((50,), array([  0.        ,   2.04081633,   4.08163265,   6.12244898,\n",
              "          8.16326531,  10.20408163,  12.24489796,  14.28571429,\n",
              "         16.32653061,  18.36734694,  20.40816327,  22.44897959,\n",
              "         24.48979592,  26.53061224,  28.57142857,  30.6122449 ,\n",
              "         32.65306122,  34.69387755,  36.73469388,  38.7755102 ,\n",
              "         40.81632653,  42.85714286,  44.89795918,  46.93877551,\n",
              "         48.97959184,  51.02040816,  53.06122449,  55.10204082,\n",
              "         57.14285714,  59.18367347,  61.2244898 ,  63.26530612,\n",
              "         65.30612245,  67.34693878,  69.3877551 ,  71.42857143,\n",
              "         73.46938776,  75.51020408,  77.55102041,  79.59183673,\n",
              "         81.63265306,  83.67346939,  85.71428571,  87.75510204,\n",
              "         89.79591837,  91.83673469,  93.87755102,  95.91836735,\n",
              "         97.95918367, 100.        ]))"
            ]
          },
          "metadata": {},
          "execution_count": 28
        }
      ]
    },
    {
      "cell_type": "code",
      "metadata": {
        "colab": {
          "base_uri": "https://localhost:8080/"
        },
        "id": "iHt3Z_IxBvM7",
        "outputId": "353cd791-459a-4b35-f1e6-60e1e019a4a1"
      },
      "source": [
        "y.shape, y"
      ],
      "execution_count": 29,
      "outputs": [
        {
          "output_type": "execute_result",
          "data": {
            "text/plain": [
              "((50,), array([ 10.        ,  20.20408163,  30.40816327,  40.6122449 ,\n",
              "         50.81632653,  61.02040816,  71.2244898 ,  81.42857143,\n",
              "         91.63265306, 101.83673469, 112.04081633, 122.24489796,\n",
              "        132.44897959, 142.65306122, 152.85714286, 163.06122449,\n",
              "        173.26530612, 183.46938776, 193.67346939, 203.87755102,\n",
              "        214.08163265, 224.28571429, 234.48979592, 244.69387755,\n",
              "        254.89795918, 265.10204082, 275.30612245, 285.51020408,\n",
              "        295.71428571, 305.91836735, 316.12244898, 326.32653061,\n",
              "        336.53061224, 346.73469388, 356.93877551, 367.14285714,\n",
              "        377.34693878, 387.55102041, 397.75510204, 407.95918367,\n",
              "        418.16326531, 428.36734694, 438.57142857, 448.7755102 ,\n",
              "        458.97959184, 469.18367347, 479.3877551 , 489.59183673,\n",
              "        499.79591837, 510.        ]))"
            ]
          },
          "metadata": {},
          "execution_count": 29
        }
      ]
    },
    {
      "cell_type": "code",
      "metadata": {
        "colab": {
          "base_uri": "https://localhost:8080/",
          "height": 282
        },
        "id": "cG0q5DTPB862",
        "outputId": "8eb3f0cb-8005-4c34-e8bc-b5c3b28e1d37"
      },
      "source": [
        "plt.plot(x, y, 'x-')"
      ],
      "execution_count": 30,
      "outputs": [
        {
          "output_type": "execute_result",
          "data": {
            "text/plain": [
              "[<matplotlib.lines.Line2D at 0x7fe1f9fe2490>]"
            ]
          },
          "metadata": {},
          "execution_count": 30
        },
        {
          "output_type": "display_data",
          "data": {
            "image/png": "[encoded data removed]",
            "text/plain": [
              "<Figure size 432x288 with 1 Axes>"
            ]
          },
          "metadata": {
            "needs_background": "light"
          }
        }
      ]
    },
    {
      "cell_type": "markdown",
      "metadata": {
        "id": "R50w04x5CO1A"
      },
      "source": [
        "## Basic regression with a linear model"
      ]
    },
    {
      "cell_type": "code",
      "metadata": {
        "colab": {
          "base_uri": "https://localhost:8080/",
          "height": 299
        },
        "id": "W-dibyHuCSoA",
        "outputId": "294b6ad6-27a9-4617-bee2-710de3bf4daa"
      },
      "source": [
        "# x is 1-dimensional\n",
        "\n",
        "n = 50\n",
        "\n",
        "d = 1\n",
        "x = np.random.uniform(-1, 1, (n, d))\n",
        "\n",
        "# y = 5x + 10\n",
        "weights_true = np.array([[5],])\n",
        "bias_true = np.array([10])\n",
        "\n",
        "y_true = x @ weights_true + bias_true\n",
        "print(f'x: {x.shape}, weights: {weights_true.shape}, bias: {bias_true.shape}, y: {y_true.shape}')\n",
        "\n",
        "plt.plot(x, y_true, marker = 'x', label = 'underlying function')\n",
        "plt.legend()"
      ],
      "execution_count": 31,
      "outputs": [
        {
          "output_type": "stream",
          "name": "stdout",
          "text": [
            "x: (50, 1), weights: (1, 1), bias: (1,), y: (50, 1)\n"
          ]
        },
        {
          "output_type": "execute_result",
          "data": {
            "text/plain": [
              "<matplotlib.legend.Legend at 0x7fe1fa039c90>"
            ]
          },
          "metadata": {},
          "execution_count": 31
        },
        {
          "output_type": "display_data",
          "data": {
            "image/png": "[encoded data removed]",
            "text/plain": [
              "<Figure size 432x288 with 1 Axes>"
            ]
          },
          "metadata": {
            "needs_background": "light"
          }
        }
      ]
    },
    {
      "cell_type": "markdown",
      "metadata": {
        "id": "stf4sGSQuNjE"
      },
      "source": [
        "Basic prediction function: Linear"
      ]
    },
    {
      "cell_type": "code",
      "metadata": {
        "colab": {
          "base_uri": "https://localhost:8080/",
          "height": 299
        },
        "id": "MAoa0FySC3jO",
        "outputId": "da9a9188-2aa2-4f09-edb1-aa5c819a51ff"
      },
      "source": [
        "# Let's initialize our predictions\n",
        "\n",
        "class Linear:\n",
        "    def __init__(self, input_dim, num_hidden = 1):\n",
        "        # The initialization is important to properly deal with different\n",
        "        # input size (otherwise gradients quickly go to 0).\n",
        "        self.weights = np.random.randn(input_dim, num_hidden) * np.sqrt(2. / input_dim)\n",
        "        print(\"weights shape: \", self.weights.shape)\n",
        "        self.bias = np.zeros(num_hidden)\n",
        "\n",
        "    def __call__(self, x):\n",
        "        return x @ self.weights + self.bias\n",
        "\n",
        "linear = Linear(d)\n",
        "y_pred = linear(x)\n",
        "plt.plot(x, y_true, marker = 'x', label = 'underlaying function')\n",
        "plt.scatter(x, y_pred, color = 'r', label = 'our function')\n",
        "plt.legend()"
      ],
      "execution_count": 38,
      "outputs": [
        {
          "output_type": "stream",
          "name": "stdout",
          "text": [
            "weights shape:  (1, 1)\n"
          ]
        },
        {
          "output_type": "execute_result",
          "data": {
            "text/plain": [
              "<matplotlib.legend.Legend at 0x7fe1f975b090>"
            ]
          },
          "metadata": {},
          "execution_count": 38
        },
        {
          "output_type": "display_data",
          "data": {
            "image/png": "[encoded data removed]",
            "text/plain": [
              "<Figure size 432x288 with 1 Axes>"
            ]
          },
          "metadata": {
            "needs_background": "light"
          }
        }
      ]
    },
    {
      "cell_type": "markdown",
      "metadata": {
        "id": "IZogqh3vxwlj"
      },
      "source": [
        "## Basic loss function: MSE"
      ]
    },
    {
      "cell_type": "code",
      "metadata": {
        "id": "ntQR1p0_DCfF",
        "colab": {
          "base_uri": "https://localhost:8080/"
        },
        "outputId": "744ab0f4-f97a-46c4-af74-82b832832a93"
      },
      "source": [
        "# How wrong are these initial predictions, exactly?\n",
        "# It's up to us, and our definition is called the loss function.\n",
        "# Let's use Mean Squared Error (MSE) as our loss function.\n",
        "\n",
        "class MSE:\n",
        "    def __call__(self, y_pred, y_true):\n",
        "        self.y_pred = y_pred \n",
        "        self.y_true = y_true \n",
        "        return ((y_true - y_pred) ** 2).mean()\n",
        "\n",
        "loss = MSE()\n",
        "print(f'Our initial loss is {loss(y_pred, y_true)}')"
      ],
      "execution_count": 39,
      "outputs": [
        {
          "output_type": "stream",
          "name": "stdout",
          "text": [
            "Our initial loss is 132.22802722529116\n"
          ]
        }
      ]
    },
    {
      "cell_type": "markdown",
      "metadata": {
        "id": "tAETmSJIyZP_"
      },
      "source": [
        "## Add back propagation"
      ]
    },
    {
      "cell_type": "code",
      "metadata": {
        "id": "jrppl9eFyUwB"
      },
      "source": [
        "# Let's use gradient decent to learn the weights and bias that minimizes the loss function.\n",
        "# For this, we need the gradient of the loss function and the gradients of the linear function.\n",
        "\n",
        "class MSE:\n",
        "    def __call__(self, y_pred, y_true):\n",
        "        self.y_pred = y_pred \n",
        "        self.y_true = y_true \n",
        "        return ((y_pred - y_true) ** 2).mean()\n",
        "\n",
        "    def backward(self):\n",
        "        n = self.y_true.shape[0]\n",
        "        self.gradient = 2. * (self.y_pred - self.y_true) / n\n",
        "        print('MSE backward', self.y_pred.shape, self.y_true.shape, self.graident.shape)\n",
        "        return self.gradient\n",
        "\n",
        "class Linear: \n",
        "    def __init__(self, input_dim: int, num_hidden: int = 1):\n",
        "        self.weights = np.random.randn(input_dim, num_hidden) * np.sqrt(2. / input_dim)\n",
        "        self.bias = np.zeros(num_hidden)\n",
        "    \n",
        "    def __call__(self, x):\n",
        "        self.x = x\n",
        "        output = x @ self.weights + self.bias\n",
        "        return output\n",
        "\n",
        "    def backward(self, gradient):\n",
        "        self.weights_gradient = self.x.T @ graident"
      ],
      "execution_count": null,
      "outputs": []
    }
  ]
}